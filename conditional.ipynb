{
 "cells": [
  {
   "attachments": {},
   "cell_type": "markdown",
   "metadata": {},
   "source": [
    "Conditional Statements"
   ]
  },
  {
   "attachments": {},
   "cell_type": "markdown",
   "metadata": {},
   "source": [
    "* Structure of the 'if' Statements"
   ]
  },
  {
   "attachments": {},
   "cell_type": "markdown",
   "metadata": {},
   "source": [
    "* In some cases, your program needs to execute some part of the code only if a specific condition is true."
   ]
  },
  {
   "cell_type": "code",
   "execution_count": null,
   "metadata": {},
   "outputs": [],
   "source": [
    "if condition:\n",
    "    body  # the body code should start at indentation (four spaces)"
   ]
  },
  {
   "cell_type": "markdown",
   "metadata": {},
   "source": [
    "The if statements check the condition. The condition is always a Boolean expression, that is, its value equals either True or False.\n",
    "\n",
    "If it evaluates to True, it executes the body of the if statement. If it evaluates to False, it skips the body. This logic works like the English language."
   ]
  },
  {
   "cell_type": "code",
   "execution_count": 5,
   "metadata": {},
   "outputs": [
    {
     "name": "stdout",
     "output_type": "stream",
     "text": [
      "it is true\n"
     ]
    }
   ],
   "source": [
    "if True:\n",
    "    print('it is true')\n"
   ]
  },
  {
   "cell_type": "code",
   "execution_count": 6,
   "metadata": {},
   "outputs": [
    {
     "name": "stdout",
     "output_type": "stream",
     "text": [
      "there is still seat to sit\n"
     ]
    }
   ],
   "source": [
    "empty_seat = 14\n",
    "\n",
    "if empty_seat > 3:  # in this case, 14>3=True, so the body will execute\n",
    "    print('there is still seat to sit')"
   ]
  },
  {
   "cell_type": "markdown",
   "metadata": {},
   "source": [
    "Comparison Operators "
   ]
  },
  {
   "attachments": {},
   "cell_type": "markdown",
   "metadata": {},
   "source": [
    "* Boolean values basically make it clear if a piece of code needs to be executed. Because comparisons result in bool, it's always best to use them as a condition.\n",
    "* Do not use assignment operator = in comparison statements. In comparisons, you have to use == operator for equality."
   ]
  },
  {
   "attachments": {},
   "cell_type": "markdown",
   "metadata": {},
   "source": [
    "# Operator\t         ,   How it works ?\t                                          ,                                Sample\n",
    "# ==\tReturns True if two values are equal or False if different. \t                                       \n",
    "# 2 == 2 (True), 2 == 3 (False)\n",
    "\n",
    "# !=\tReturns True if two values are not equal or False if equal\t                                      \n",
    "# 2 != 2 (False), 2 != 3 (True)\n",
    "\n",
    "# >\tReturns True if the value on the left is greater than the value on the right otherwise returns False\t   \n",
    "# 3 > 2 (True), 2 > 3 (False)\n",
    "\n",
    "# <\tReturns True if the value on the left is less than the value on the right otherwise returns False\t\n",
    "# 2 < 3 (True), 3 < 2 (False)\n",
    "\n",
    "# >=\tReturns True if the value on the left is greater than or equal to the value on the right otherwise returns False\t\n",
    "# 3 >= 2 (True), 3 >= 3 (True), 2 >= 3 (False)\n",
    "\n",
    "# <=\tReturns True if the value on the left is less than or equal to the value on the right otherwise returns False\t\n",
    "# 3 <= 2 (False), 3 <= 3 (True), 2 <= 3 (True)"
   ]
  },
  {
   "cell_type": "code",
   "execution_count": 7,
   "metadata": {},
   "outputs": [
    {
     "name": "stdout",
     "output_type": "stream",
     "text": [
      "is x equal to y?                 : False\n",
      "is x not equal to y?             : True\n",
      "is x less than y?                : True\n",
      "is x greater than y?             : False\n",
      "is x less than or equal to y?    : True\n",
      "is x greater than or equal to y? : False\n"
     ]
    }
   ],
   "source": [
    "x = 6\n",
    "y = 9\n",
    "print (\"is x equal to y?                 :\" , x == y)\n",
    "print (\"is x not equal to y?             :\" , x != y)\n",
    "print (\"is x less than y?                :\" , x < y)\n",
    "print (\"is x greater than y?             :\" , x > y)\n",
    "print (\"is x less than or equal to y?    :\" , x <= y)\n",
    "print (\"is x greater than or equal to y? :\" , x >= y)\n"
   ]
  },
  {
   "cell_type": "markdown",
   "metadata": {},
   "source": [
    "'if-else' Statements"
   ]
  },
  {
   "cell_type": "markdown",
   "metadata": {},
   "source": [
    "* An if-else statement is another kind of conditional statements in Python. It is used with an additional keyword: else.\n",
    "\n",
    "* else works like an if statement. If none of the conditions in if are ensured, \"else\" will be used to specify all remaining conditions."
   ]
  },
  {
   "cell_type": "code",
   "execution_count": null,
   "metadata": {},
   "outputs": [],
   "source": [
    "if condition1:  \n",
    "    execute body1\n",
    "else : # if condition1 is not ensured execute body2\n",
    "    execute body2\n",
    "\n",
    "# Note that, else doesn't require any condition and the body2 requires 4-space indentation here."
   ]
  },
  {
   "cell_type": "code",
   "execution_count": 9,
   "metadata": {},
   "outputs": [
    {
     "name": "stdout",
     "output_type": "stream",
     "text": [
      "you write a integer \n"
     ]
    }
   ],
   "source": [
    "course = 'math'\n",
    "\n",
    "if course == \"math\":\n",
    "    print(\"you write a integer \")\n",
    "else:\n",
    "    print(\"you don't attend to the math course\")\n"
   ]
  },
  {
   "cell_type": "code",
   "execution_count": 10,
   "metadata": {},
   "outputs": [
    {
     "name": "stdout",
     "output_type": "stream",
     "text": [
      "Number is bigger than 3\n"
     ]
    }
   ],
   "source": [
    "number = 5\n",
    "if number <= 3:    \n",
    "    print(\"Number is smaller than or equal to 3\") \n",
    "else:  # Optional clause (you can only have one else)\n",
    "    print(\"Number is bigger than 3\")"
   ]
  },
  {
   "attachments": {},
   "cell_type": "markdown",
   "metadata": {},
   "source": [
    "'if-elif-else' Statements"
   ]
  },
  {
   "attachments": {},
   "cell_type": "markdown",
   "metadata": {},
   "source": [
    "* The elif statement is used when it requires to specify several conditions in our program.\n",
    "\n",
    "* In Python you can deﬁne a series of conditionals using :\n",
    "\n",
    "* if for the ﬁrst one,\n",
    "* elif for the rest, up until the ﬁnal (optional),\n",
    "* else for anything not caught by the other conditionals."
   ]
  },
  {
   "cell_type": "code",
   "execution_count": null,
   "metadata": {},
   "outputs": [],
   "source": [
    "if condition1:\n",
    "    make step1\n",
    "\n",
    "elif condition2:\n",
    "    make step2\n",
    "\n",
    "else:\n",
    "    make step3"
   ]
  },
  {
   "attachments": {},
   "cell_type": "markdown",
   "metadata": {},
   "source": [
    "* How does the structure of statement work? : condition1 is checked first, and if the result is True the step1 in the 'if' statement' will be made. If not, condition2 in the 'elif' statement is checked. If the result is True, step2 will be made, if not, step3 in the last control point 'else' will be made."
   ]
  },
  {
   "cell_type": "code",
   "execution_count": 1,
   "metadata": {},
   "outputs": [
    {
     "name": "stdout",
     "output_type": "stream",
     "text": [
      "I can lift that!\n"
     ]
    }
   ],
   "source": [
    "weight = 80\n",
    "\n",
    "if weight > 100:\n",
    "    print(\"That's too heavy!\")\n",
    "elif weight > 75:\n",
    "    print(\"I can lift that!\")\n",
    "else:\n",
    "    print(\"That's too light!\")"
   ]
  },
  {
   "attachments": {},
   "cell_type": "markdown",
   "metadata": {},
   "source": [
    "* The code inside the else block is executed only if all conditions before it is False."
   ]
  },
  {
   "cell_type": "code",
   "execution_count": 2,
   "metadata": {},
   "outputs": [
    {
     "name": "stdout",
     "output_type": "stream",
     "text": [
      "No such audience, stay at your home!\n"
     ]
    }
   ],
   "source": [
    "audience = \"baby\"\n",
    "\n",
    "if audience == \"kid\":\n",
    "    print(\"it is free to go to cinema\")\n",
    "elif audience == \"teen\":\n",
    "    print(\"discounted price!\")\n",
    "elif audience == \"adult\":\n",
    "    print(\"normal price\")\n",
    "else:\n",
    "    print(\"No such audience, stay at your home!\")\n"
   ]
  },
  {
   "attachments": {},
   "cell_type": "markdown",
   "metadata": {},
   "source": [
    "* In this program, we grouped the prices of movie tickets based on the age ranges of the audience going to the cinema. If you pay attention, after the True or False check-in each level, the flow continues according to the response received. In the last step, else can be reached if all the answers are False ."
   ]
  },
  {
   "attachments": {},
   "cell_type": "markdown",
   "metadata": {},
   "source": [
    "Nested 'if-elif-else' Statements"
   ]
  },
  {
   "cell_type": "markdown",
   "metadata": {},
   "source": [
    "* Both if-else and if-elif statements can be nested."
   ]
  },
  {
   "cell_type": "code",
   "execution_count": 3,
   "metadata": {},
   "outputs": [
    {
     "name": "stdout",
     "output_type": "stream",
     "text": [
      "discounted price!\n"
     ]
    }
   ],
   "source": [
    "audience_group = 'kid','teen','adult'\n",
    "audience = \"teen\"\n",
    "\n",
    "if audience in audience_group:\n",
    "    if audience == \"kid\":\n",
    "        print(\"it is free to go to cinema\")\n",
    "    elif audience == \"teen\":\n",
    "        print(\"discounted price!\")\n",
    "    else: #audience == \"adult\" :\n",
    "        print(\"normal price\")\n",
    "\n",
    "else:\n",
    "    print(\"No such audience, stay at your home!\")"
   ]
  },
  {
   "cell_type": "markdown",
   "metadata": {},
   "source": [
    "* Let us write a program that asks you to enter your exam score and calculates the range in which your degree is based on your exam score. Try to run this code on your Jupyter Lab cell if available."
   ]
  },
  {
   "cell_type": "code",
   "execution_count": 4,
   "metadata": {},
   "outputs": [
    {
     "name": "stdout",
     "output_type": "stream",
     "text": [
      "Your degree: below C\n"
     ]
    }
   ],
   "source": [
    "score = int(input(\"Enter your score : \"))\n",
    "\n",
    "if score >= 90 :\n",
    "    if score >=95:\n",
    "        Score_letter = \"A+\"\n",
    "    else:\n",
    "        Score_letter = \"A\"\n",
    "elif score >= 80 :\n",
    "    if score >=85:\n",
    "        Score_letter = \"B+\"\n",
    "    else:\n",
    "        Score_letter = \"B\"\n",
    "elif score >= 70 :\n",
    "    if score >= 75:\n",
    "        Score_letter = \"C+\"\n",
    "    else:\n",
    "        Score_letter = \"C\"\n",
    "else:\n",
    "    Score_letter = \"below C\"\n",
    "\n",
    "print(f\"Your degree: {Score_letter}\") #input = 45"
   ]
  },
  {
   "attachments": {},
   "cell_type": "markdown",
   "metadata": {},
   "source": [
    "* Nested if-elif-else structures may seem a bit complicated to you, the best way to overcome this is to examine and practice plenty of samples."
   ]
  },
  {
   "attachments": {},
   "cell_type": "markdown",
   "metadata": {},
   "source": [
    "* If you eager to find more on control flow tools see https://docs.python.org/3.8/tutorial/controlflow.html?highlight=else#more-control-flow-tools"
   ]
  }
 ],
 "metadata": {
  "kernelspec": {
   "display_name": "Python 3",
   "language": "python",
   "name": "python3"
  },
  "language_info": {
   "codemirror_mode": {
    "name": "ipython",
    "version": 3
   },
   "file_extension": ".py",
   "mimetype": "text/x-python",
   "name": "python",
   "nbconvert_exporter": "python",
   "pygments_lexer": "ipython3",
   "version": "3.11.2"
  },
  "orig_nbformat": 4
 },
 "nbformat": 4,
 "nbformat_minor": 2
}
